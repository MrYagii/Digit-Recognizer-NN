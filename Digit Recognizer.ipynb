{
 "cells": [
  {
   "cell_type": "markdown",
   "id": "19d1e08b-f326-4d94-9e85-16e22fa5c36e",
   "metadata": {},
   "source": [
    "### Building a Digit Recognizer Neural Network By Sochimazuru (MNIST)"
   ]
  },
  {
   "cell_type": "code",
   "execution_count": 1,
   "id": "1f2aa073-cc64-473e-8f3b-213c864dfd3e",
   "metadata": {},
   "outputs": [],
   "source": [
    "import pandas as pd\n",
    "import numpy as np\n",
    "import torch\n",
    "import torch.nn as nn\n",
    "import torch.optim as optim\n",
    "import torch.utils.data as data\n",
    "import torchvision.transforms as transforms\n",
    "import matplotlib.pyplot as plt\n",
    "from torch.utils.data import DataLoader, TensorDataset, random_split"
   ]
  },
  {
   "cell_type": "markdown",
   "id": "b93d1d69-ba23-4e04-899a-05cd3b49437b",
   "metadata": {},
   "source": [
    "### Step 1: Load and Preprocess the Data\n",
    "- We'll use pandas to load the CSV files and torchvision for data transformation."
   ]
  },
  {
   "cell_type": "code",
   "execution_count": 8,
   "id": "3cde782c-62a9-41f7-b4ed-348f1be17065",
   "metadata": {},
   "outputs": [
    {
     "name": "stdout",
     "output_type": "stream",
     "text": [
      "Training samples: 33600, Validation samples: 8400\n"
     ]
    }
   ],
   "source": [
    "# Load the training and test data\n",
    "train_df = pd.read_csv(\"train.csv\")\n",
    "test_df = pd.read_csv(\"test.csv\")\n",
    "\n",
    "# Separate labels from features\n",
    "train_labels = train_df[\"label\"].values\n",
    "train_images = train_df.drop(columns=[\"label\"]).values  # Remove label column\n",
    "\n",
    "# Normalize pixel values to range [0,1]\n",
    "train_images = train_images / 255.0\n",
    "test_images = test_df.values / 255.0\n",
    "\n",
    "# Convert to PyTorch tensors\n",
    "train_images = torch.tensor(train_images, dtype=torch.float32)\n",
    "train_labels = torch.tensor(train_labels, dtype=torch.long)\n",
    "test_images = torch.tensor(test_images, dtype=torch.float32)\n",
    "\n",
    "# Reshape to (batch_size, channels, height, width)\n",
    "train_images = train_images.view(-1, 1, 28, 28)\n",
    "test_images = test_images.view(-1, 1, 28, 28)\n",
    "\n",
    "# Create dataset\n",
    "full_dataset = TensorDataset(train_images, train_labels)\n",
    "\n",
    "# Split into Training (80%) and Validation (20%)\n",
    "train_size = int(0.8 * len(full_dataset))  \n",
    "val_size = len(full_dataset) - train_size  \n",
    "train_dataset, val_dataset = random_split(full_dataset, [train_size, val_size])\n",
    "\n",
    "# Create DataLoaders\n",
    "train_loader = DataLoader(train_dataset, batch_size=64, shuffle=True)\n",
    "val_loader = DataLoader(val_dataset, batch_size=64, shuffle=False)  # Validation set\n",
    "test_loader = DataLoader(TensorDataset(test_images), batch_size=64, shuffle=False)  # For inference\n",
    "\n",
    "print(f\"Training samples: {len(train_dataset)}, Validation samples: {len(val_dataset)}\")\n",
    "\n",
    "#Explanations:\n",
    "# i Loaded the dataset using pandas.\n",
    "#Extracted labels (digits) and pixel values separately.\n",
    "#Normalized pixel values from [0,255] to [0,1] for better learning.\n",
    "#Converted the data to PyTorch tensors to work with a neural network.\n",
    "#Reshaped images from flat (1D) arrays to 28×28 matrices.\n",
    "#Added random_split() - Splits 80% for training, 20% for validation.\n",
    "#Created val_loader for validation - This ensures validation loss can be calculated.\n",
    "#Created test_loader for testing - Needed for making predictions later.\n",
    "#Created a DataLoader for easier batch processing."
   ]
  },
  {
   "cell_type": "markdown",
   "id": "5ba34f50-c89f-45a9-a4c3-1477367f6d90",
   "metadata": {},
   "source": [
    "### Step 2: Define the Neural Network\n",
    "- Now, we build a simple convolutional neural network (CNN) to classify digits."
   ]
  },
  {
   "cell_type": "code",
   "execution_count": 10,
   "id": "f1f3e90b-e5f1-427f-81e7-97015c596836",
   "metadata": {},
   "outputs": [],
   "source": [
    "class DigitClassifier(nn.Module):\n",
    "    def __init__(self):\n",
    "        super(DigitClassifier, self).__init__()\n",
    "        self.conv1 = nn.Conv2d(1, 16, kernel_size=3, padding=1)  # First conv layer\n",
    "        self.conv2 = nn.Conv2d(16, 32, kernel_size=3, padding=1)  # Second conv layer\n",
    "        self.fc1 = nn.Linear(32 * 7 * 7, 128)  # Fully connected layer\n",
    "        self.fc2 = nn.Linear(128, 10)  # Output layer (10 classes)\n",
    "        self.pool = nn.MaxPool2d(2, 2)  # Pooling layer\n",
    "        self.relu = nn.ReLU()  # Activation function\n",
    "\n",
    "    def forward(self, x):\n",
    "        x = self.pool(self.relu(self.conv1(x)))  # Conv1 -> ReLU -> Pool\n",
    "        x = self.pool(self.relu(self.conv2(x)))  # Conv2 -> ReLU -> Pool\n",
    "        x = x.view(-1, 32 * 7 * 7)  # Flatten\n",
    "        x = self.relu(self.fc1(x))  # Fully connected -> ReLU\n",
    "        x = self.fc2(x)  # Output layer\n",
    "        return x\n",
    "\n",
    "# Initialize model\n",
    "model = DigitClassifier()\n",
    "\n",
    "#Explanations:\n",
    "#Conv2d layers: Detect patterns in the images.\n",
    "#MaxPool2d: Reduces image size for efficient learning.\n",
    "#ReLU activation: Helps learn non-linear relationships.\n",
    "#Fully connected layers: Convert features into digit predictions.\n",
    "#Output layer (10 neurons): Each neuron represents a digit (0-9)."
   ]
  },
  {
   "cell_type": "markdown",
   "id": "5377ae9d-8909-432f-bad8-889f85fd3f2c",
   "metadata": {},
   "source": [
    "### Step 3: Train the Neural Network\n",
    "- We use cross-entropy loss (good for classification) and Adam optimizer."
   ]
  },
  {
   "cell_type": "code",
   "execution_count": 12,
   "id": "32a68d35-60b0-44e2-be9e-1bea58081984",
   "metadata": {},
   "outputs": [
    {
     "name": "stdout",
     "output_type": "stream",
     "text": [
      "Epoch [1/10], Train Loss: 0.3293, Val Loss: 0.1190\n",
      "Epoch [2/10], Train Loss: 0.0856, Val Loss: 0.0700\n",
      "Epoch [3/10], Train Loss: 0.0584, Val Loss: 0.0720\n",
      "Epoch [4/10], Train Loss: 0.0425, Val Loss: 0.0640\n",
      "Epoch [5/10], Train Loss: 0.0331, Val Loss: 0.0527\n",
      "Epoch [6/10], Train Loss: 0.0262, Val Loss: 0.0550\n",
      "Epoch [7/10], Train Loss: 0.0215, Val Loss: 0.0546\n",
      "Early stopping triggered. Stopping training.\n"
     ]
    }
   ],
   "source": [
    "# Define early stopping class\n",
    "class EarlyStopping:\n",
    "    def __init__(self, patience=2, min_delta=0.0001):\n",
    "        self.patience = patience  # Number of bad epochs allowed before stopping\n",
    "        self.min_delta = min_delta  # Minimum improvement to count as progress\n",
    "        self.best_loss = float('inf')  # Best recorded validation loss\n",
    "        self.counter = 0  # Counts bad epochs\n",
    "\n",
    "    def check(self, val_loss):\n",
    "        if val_loss < self.best_loss - self.min_delta:\n",
    "            self.best_loss = val_loss\n",
    "            self.counter = 0  # Reset bad epoch count\n",
    "        else:\n",
    "            self.counter += 1  # Count bad epochs\n",
    "\n",
    "        return self.counter >= self.patience  # Stop if no improvement for `patience` epochs\n",
    "\n",
    "# Initialize loss function and optimizer\n",
    "criterion = nn.CrossEntropyLoss()\n",
    "optimizer = optim.Adam(model.parameters(), lr=0.001)\n",
    "\n",
    "# Initialize early stopping\n",
    "early_stopping = EarlyStopping(patience=2)  \n",
    "\n",
    "num_epochs = 10\n",
    "for epoch in range(num_epochs):\n",
    "    model.train()  # Set model to training mode\n",
    "    train_loss = 0.0\n",
    "\n",
    "    for images, labels in train_loader:\n",
    "        optimizer.zero_grad()  # Reset gradients\n",
    "        outputs = model(images)  # Forward pass\n",
    "        loss = criterion(outputs, labels)  # Compute loss\n",
    "        loss.backward()  # Backpropagation\n",
    "        optimizer.step()  # Update weights\n",
    "        train_loss += loss.item()  # Accumulate training loss\n",
    "\n",
    "    train_loss /= len(train_loader)  # Average training loss\n",
    "\n",
    "    # Validate model after each epoch\n",
    "    model.eval()  # Set model to evaluation mode\n",
    "    val_loss = 0.0\n",
    "    with torch.no_grad():  # Disable gradient calculation for validation\n",
    "        for images, labels in val_loader:\n",
    "            outputs = model(images)\n",
    "            loss = criterion(outputs, labels)\n",
    "            val_loss += loss.item()\n",
    "\n",
    "    val_loss /= len(val_loader)  # Average validation loss\n",
    "\n",
    "    print(f\"Epoch [{epoch+1}/{num_epochs}], Train Loss: {train_loss:.4f}, Val Loss: {val_loss:.4f}\")\n",
    "\n",
    "    # Check early stopping condition\n",
    "    if early_stopping.check(val_loss):\n",
    "        print(\"Early stopping triggered. Stopping training.\")\n",
    "        break  # Stop training"
   ]
  },
  {
   "cell_type": "code",
   "execution_count": 18,
   "id": "bb925a9b-3af3-4a1a-8601-358fd9b77bd1",
   "metadata": {},
   "outputs": [],
   "source": [
    "torch.save(model.state_dict(), \"C:/Users/XPS/Desktop/DMIA MSC/M1, Semester 2/Functional Programming/Digit Recognizer/digit_recognizer_app/digit_model.pth\")"
   ]
  },
  {
   "cell_type": "markdown",
   "id": "23fb8edc-259f-4a91-8bb6-d75403c23114",
   "metadata": {},
   "source": [
    "### Step 4: Test the Model\n",
    "- Let’s test the trained model on some images."
   ]
  },
  {
   "cell_type": "code",
   "execution_count": 13,
   "id": "a212db30-2fcd-42ab-80ef-858ba550f16d",
   "metadata": {
    "execution": {
     "iopub.execute_input": "2025-03-19T20:32:35.454122Z",
     "iopub.status.busy": "2025-03-19T20:32:35.453727Z",
     "iopub.status.idle": "2025-03-19T20:32:36.400545Z",
     "shell.execute_reply": "2025-03-19T20:32:36.399412Z",
     "shell.execute_reply.started": "2025-03-19T20:32:35.454092Z"
    }
   },
   "outputs": [
    {
     "data": {
      "image/png": "[encoded data removed]",
      "text/plain": [
       "<Figure size 640x480 with 1 Axes>"
      ]
     },
     "metadata": {},
     "output_type": "display_data"
    },
    {
     "data": {
      "image/png": "[encoded data removed]",
      "text/plain": [
       "<Figure size 640x480 with 1 Axes>"
      ]
     },
     "metadata": {},
     "output_type": "display_data"
    },
    {
     "data": {
      "image/png": "[encoded data removed]",
      "text/plain": [
       "<Figure size 640x480 with 1 Axes>"
      ]
     },
     "metadata": {},
     "output_type": "display_data"
    },
    {
     "data": {
      "image/png": "[encoded data removed]",
      "text/plain": [
       "<Figure size 640x480 with 1 Axes>"
      ]
     },
     "metadata": {},
     "output_type": "display_data"
    },
    {
     "data": {
      "image/png": "[encoded data removed]",
      "text/plain": [
       "<Figure size 640x480 with 1 Axes>"
      ]
     },
     "metadata": {},
     "output_type": "display_data"
    }
   ],
   "source": [
    "def test_sample(model, test_loader):\n",
    "    model.eval()  # Set model to evaluation mode\n",
    "    with torch.no_grad():  # No need to compute gradients\n",
    "        for i in range(5):  # Display 5 predictions\n",
    "            image = test_images[i].unsqueeze(0)  # Add batch dimension\n",
    "            output = model(image)\n",
    "            predicted_label = torch.argmax(output, dim=1).item()\n",
    "            \n",
    "            plt.imshow(image.squeeze().numpy(), cmap=\"gray\")\n",
    "            plt.title(f\"Predicted: {predicted_label}\")\n",
    "            plt.show()\n",
    "\n",
    "test_sample(model, test_images)\n",
    "\n",
    "#Explanations:\n",
    "#model.eval() → Switch to evaluation mode.\n",
    "#torch.no_grad() → Avoid unnecessary calculations.\n",
    "#Pick 5 test images, run through the model, and show predictions."
   ]
  },
  {
   "cell_type": "code",
   "execution_count": null,
   "id": "f78af329-ec34-4948-95b8-3039f0f671ae",
   "metadata": {},
   "outputs": [],
   "source": []
  }
 ],
 "metadata": {
  "kaggle": {
   "accelerator": "none",
   "dataSources": [
    {
     "datasetId": 6915271,
     "sourceId": 11093342,
     "sourceType": "datasetVersion"
    },
    {
     "datasetId": 6915285,
     "sourceId": 11093361,
     "sourceType": "datasetVersion"
    },
    {
     "datasetId": 6915447,
     "sourceId": 11093599,
     "sourceType": "datasetVersion"
    }
   ],
   "dockerImageVersionId": 30918,
   "isGpuEnabled": false,
   "isInternetEnabled": true,
   "language": "python",
   "sourceType": "notebook"
  },
  "kernelspec": {
   "display_name": "Python 3 (ipykernel)",
   "language": "python",
   "name": "python3"
  },
  "language_info": {
   "codemirror_mode": {
    "name": "ipython",
    "version": 3
   },
   "file_extension": ".py",
   "mimetype": "text/x-python",
   "name": "python",
   "nbconvert_exporter": "python",
   "pygments_lexer": "ipython3",
   "version": "3.12.9"
  }
 },
 "nbformat": 4,
 "nbformat_minor": 5
}
